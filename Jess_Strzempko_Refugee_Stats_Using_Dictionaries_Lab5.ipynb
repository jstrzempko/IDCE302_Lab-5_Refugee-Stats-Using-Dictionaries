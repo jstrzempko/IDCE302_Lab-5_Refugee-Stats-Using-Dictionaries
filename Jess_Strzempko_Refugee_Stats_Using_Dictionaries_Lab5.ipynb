{
  "nbformat": 4,
  "nbformat_minor": 0,
  "metadata": {
    "colab": {
      "name": "Jess_Strzempko_Refugee-Stats-Using-Dictionaries_Lab5.ipynb",
      "provenance": [],
      "collapsed_sections": [],
      "authorship_tag": "ABX9TyOFr06oYAjVxYvkhTU08U+G",
      "include_colab_link": true
    },
    "kernelspec": {
      "name": "python3",
      "display_name": "Python 3"
    }
  },
  "cells": [
    {
      "cell_type": "markdown",
      "metadata": {
        "id": "view-in-github",
        "colab_type": "text"
      },
      "source": [
        "<a href=\"https://colab.research.google.com/github/IDCE-MSGIS/lab-5-refugee-stats-using-dictionaries-jstrzempko/blob/master/Jess_Strzempko_Refugee_Stats_Using_Dictionaries_Lab5.ipynb\" target=\"_parent\"><img src=\"https://colab.research.google.com/assets/colab-badge.svg\" alt=\"Open In Colab\"/></a>"
      ]
    },
    {
      "cell_type": "markdown",
      "metadata": {
        "id": "TNOZuhLVrNUB"
      },
      "source": [
        "Jess Strzempko  \n",
        "Created 09.25.20  \n",
        "Python version 3.6.9  \n",
        "IDCE 302 Python Programming  \n",
        "\n",
        "## Lab 5 - Refugee Stats Using Dictionaries\n",
        "\n",
        "This script creates a small dictionary of refugee camp popuations and iterates through it to create basic outputs. First, the script creates a dictionary with 5 key-value pairs consisting of a country name and an integer representing the population of refugee camps in this country for the latest year of data (2014). [Refugee camp populations](https://en.wikipedia.org/wiki/Refugee_camp) were sourced from a Wikipedia data table. Two functions are created - one to print the keys in the key-value pairs and the other to print the values using for loops. Both functions are called on the refugee dictionary. A last function is created and called to print out a series of statements with how many refugees are in each country with the format: \"CountryX has 1234567 refugees.\"\n",
        "\n",
        "**Inputs:**  \n",
        "\n",
        "* 5 key-value pairs\n",
        "  + key: country name\n",
        "  + value: population of refugee camps in country\n",
        "\n",
        "**Outputs:**  \n",
        "\n",
        "* printed list of country names (keys)\n",
        "* printed list of refugee camp populations (values)\n",
        "* printed statements saying \"CountryX has 1234567 refugees.\""
      ]
    },
    {
      "cell_type": "code",
      "metadata": {
        "id": "JCqiQSyQs7Z2"
      },
      "source": [
        "#Create dictionary named refugee containing 5 key-value pairs \n",
        "#consisting of a country name (key) and population value (value) of one of their refugee camps\n",
        "refugee = {'Thailand': 122349, 'Niger': 25676, 'Sudan': 74362, 'Chad': 419236, 'Mauritania': 48910}\n",
        "\n",
        "#Define a function that will print out just the countries' names\n",
        "#by looping through the keys of the refugee dictionary\n",
        "def country_names(dictionary):\n",
        "  for name in dictionary.keys():\n",
        "    print(name)\n",
        "\n",
        "#Call the function in order to print out the country names in the refugee dictionary\n",
        "country_names(refugee)\n",
        "\n",
        "#Define a function that will print out just the camp populations\n",
        "#by looping through the values of the refugee dictionary\n",
        "def country_populations(dictionary):\n",
        "  for name in dictionary.values():\n",
        "    print(name)\n",
        "\n",
        "#Call the function in order to print out the camp populations in the refugee dictionary\n",
        "country_populations(refugee)\n",
        "\n",
        "#Print out a series of statements\n",
        "#with how many refugees are in each country\n",
        "#Example format: \"CountryX has 1234567 refugees.\"\n",
        "def statements(dictionary):\n",
        "  for (key, value) in dictionary.items():\n",
        "    print(key, \"has\", value, \"refugees.\")\n",
        "\n",
        "#Call the function in order to print out the statements created from the refugee dictionary\n",
        "statements(refugee)"
      ],
      "execution_count": null,
      "outputs": []
    }
  ]
}